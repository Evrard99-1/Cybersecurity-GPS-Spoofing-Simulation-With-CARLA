{
 "cells": [
  {
   "cell_type": "code",
   "execution_count": 26,
   "metadata": {},
   "outputs": [],
   "source": [
    "# Setup & Imports\n",
    "import carla\n",
    "import time\n",
    "import threading\n",
    "import pandas as pd\n",
    "import sys\n",
    "import random\n",
    "import os\n",
    "os.makedirs('output/rgb', exist_ok=True)\n",
    "\n",
    "\n",
    "# True ➝ spoofing affects route\n",
    "affect_steering = False  # SET TO True IN SECOND SCRIPT\n"
   ]
  },
  {
   "cell_type": "code",
   "execution_count": 27,
   "metadata": {},
   "outputs": [],
   "source": [
    "# Connect & Setup\n",
    "client = carla.Client('localhost', 2000)\n",
    "client.set_timeout(10.0)\n",
    "world = client.get_world()\n",
    "map = world.get_map()\n",
    "blueprints = world.get_blueprint_library()\n",
    "spawn_points = map.get_spawn_points()\n"
   ]
  },
  {
   "cell_type": "code",
   "execution_count": 28,
   "metadata": {},
   "outputs": [],
   "source": [
    "# Destroy existing actors\n",
    "for a in world.get_actors().filter('*vehicle*'): a.destroy()\n",
    "for s in world.get_actors().filter('*sensor*'): s.destroy()\n"
   ]
  },
  {
   "cell_type": "code",
   "execution_count": 29,
   "metadata": {},
   "outputs": [],
   "source": [
    "# Global Variables\n",
    "data_records = []\n",
    "spoofing_active = False\n",
    "spoofed_latitude = 52.000000\n",
    "spoofed_longitude = 4.000000\n",
    "frame_id = 0\n"
   ]
  },
  {
   "cell_type": "code",
   "execution_count": 30,
   "metadata": {},
   "outputs": [
    {
     "name": "stdout",
     "output_type": "stream",
     "text": [
      "✅ Firetruck spawned.\n"
     ]
    }
   ],
   "source": [
    "# Firetruck\n",
    "vehicle_bp = blueprints.filter('*firetruck*')[0]\n",
    "vehicle = world.try_spawn_actor(vehicle_bp, spawn_points[0])\n",
    "if not vehicle:\n",
    "    print(\"❌ Firetruck failed to spawn.\")\n",
    "    exit()\n",
    "print(\"✅ Firetruck spawned.\")\n"
   ]
  },
  {
   "cell_type": "code",
   "execution_count": 31,
   "metadata": {},
   "outputs": [],
   "source": [
    "# Spectator\n",
    "spectator = world.get_spectator()\n",
    "spectator.set_transform(carla.Transform(\n",
    "    vehicle.get_transform().transform(carla.Location(x=4, z=2)),\n",
    "    vehicle.get_transform().rotation))\n"
   ]
  },
  {
   "cell_type": "code",
   "execution_count": 33,
   "metadata": {},
   "outputs": [],
   "source": [
    "# Sensor setup\n",
    "sensor_list = []\n",
    "sensor_data = {\n",
    "    'gnss': None,\n",
    "    'imu': None,\n",
    "    'rgb_frame': None\n",
    "}\n",
    "\n",
    "# GNSS\n",
    "def gps_callback(data):\n",
    "    sensor_data['gnss'] = {\n",
    "        'latitude': spoofed_latitude if spoofing_active else data.latitude,\n",
    "        'longitude': spoofed_longitude if spoofing_active else data.longitude\n",
    "    }\n",
    "\n",
    "gnss = world.spawn_actor(blueprints.find('sensor.other.gnss'), carla.Transform(), attach_to=vehicle)\n",
    "gnss.listen(gps_callback)\n",
    "sensor_list.append(gnss)\n",
    "\n",
    "# IMU\n",
    "def imu_callback(data):\n",
    "    sensor_data['imu'] = {\n",
    "        'accel_x': data.accelerometer.x,\n",
    "        'accel_y': data.accelerometer.y,\n",
    "        'accel_z': data.accelerometer.z,\n",
    "        'gyro_x': data.gyroscope.x,\n",
    "        'gyro_y': data.gyroscope.y,\n",
    "        'gyro_z': data.gyroscope.z\n",
    "    }\n",
    "\n",
    "imu = world.spawn_actor(blueprints.find('sensor.other.imu'), carla.Transform(), attach_to=vehicle)\n",
    "imu.listen(imu_callback)\n",
    "sensor_list.append(imu)\n",
    "\n",
    "# RGB Camera\n",
    "def rgb_callback(image):\n",
    "    if not (sensor_data['gnss'] and sensor_data['imu']):\n",
    "        return  # Skip if GNSS or IMU not ready\n",
    "\n",
    "    image_path = f'output/rgb/{image.frame:06d}.png'\n",
    "    image.save_to_disk(image_path)\n",
    "    \n",
    "    velocity = vehicle.get_velocity()\n",
    "    speed = 3.6 * (velocity.x**2 + velocity.y**2 + velocity.z**2) ** 0.5\n",
    "    global frame_id\n",
    "\n",
    "    record = {\n",
    "        'frame_id': frame_id,\n",
    "        'image_num': image.frame,\n",
    "        'latitude': sensor_data['gnss']['latitude'],\n",
    "        'longitude': sensor_data['gnss']['longitude'],\n",
    "        'accel_x': sensor_data['imu']['accel_x'],\n",
    "        'accel_y': sensor_data['imu']['accel_y'],\n",
    "        'accel_z': sensor_data['imu']['accel_z'],\n",
    "        'gyro_x': sensor_data['imu']['gyro_x'],\n",
    "        'gyro_y': sensor_data['imu']['gyro_y'],\n",
    "        'gyro_z': sensor_data['imu']['gyro_z'],\n",
    "        'steering_angle': vehicle.get_control().steer,\n",
    "        'throttle': vehicle.get_control().throttle,\n",
    "        'brake': vehicle.get_control().brake,\n",
    "        'speed': speed,\n",
    "        'label': 'spoofed' if spoofing_active else 'normal'\n",
    "    }\n",
    "    data_records.append(record)\n",
    "    frame_id += 1\n",
    "\n",
    "camera_bp = blueprints.find('sensor.camera.rgb')\n",
    "camera_transform = carla.Transform(carla.Location(x=4, z=2), carla.Rotation(pitch=-10))\n",
    "camera = world.spawn_actor(camera_bp, camera_transform, attach_to=vehicle)\n",
    "camera.listen(rgb_callback)\n",
    "sensor_list.append(camera)\n",
    "\n"
   ]
  },
  {
   "cell_type": "code",
   "execution_count": 34,
   "metadata": {},
   "outputs": [],
   "source": [
    "# Route planning\n",
    "sys.path.append('D:/carla/PythonAPI/carla')\n",
    "from agents.navigation.global_route_planner import GlobalRoutePlanner\n",
    "from agents.navigation.basic_agent import BasicAgent\n",
    "\n",
    "grp = GlobalRoutePlanner(map, 2.0)\n",
    "start_loc = carla.Location(x=50.477512, y=141.135620, z=0.001844)\n",
    "end_loc = carla.Location(x=-64.644844, y=24.471010, z=0.600000)\n",
    "route = grp.trace_route(start_loc, end_loc)\n",
    "\n",
    "for wp, _ in route:\n",
    "    world.debug.draw_arrow(wp.transform.location,\n",
    "                           wp.transform.location + carla.Location(z=0.5),\n",
    "                           0.1, 0.3,\n",
    "                           carla.Color(0, 255, 0),\n",
    "                           60.0, True)\n",
    "\n",
    "agent = BasicAgent(vehicle)\n",
    "agent.set_destination(end_loc)\n"
   ]
  },
  {
   "cell_type": "code",
   "execution_count": 35,
   "metadata": {},
   "outputs": [
    {
     "name": "stdout",
     "output_type": "stream",
     "text": [
      "🕐 Spoofing starts in 10s...\n"
     ]
    }
   ],
   "source": [
    "# Spoofing timer\n",
    "def spoofing_trigger(agent, delay=10):\n",
    "    global spoofing_active\n",
    "    print(f\"🕐 Spoofing starts in {delay}s...\")\n",
    "    time.sleep(delay)\n",
    "\n",
    "    # Spoofing attack\n",
    "    spoofing_active = True   # SET TO True to activate spoofing attack\n",
    "\n",
    "    print(\"🚨 Spoofing activated.\")\n",
    "    if affect_steering:\n",
    "        new_target = random.choice(map.get_spawn_points()).location\n",
    "        agent.set_destination(new_target)\n",
    "        print(\"🎯 Destination altered due to spoofing.\")\n",
    "\n",
    "threading.Thread(target=spoofing_trigger, args=(agent,)).start()\n"
   ]
  },
  {
   "cell_type": "code",
   "execution_count": 36,
   "metadata": {},
   "outputs": [
    {
     "name": "stdout",
     "output_type": "stream",
     "text": [
      "🚒 Running simulation...\n",
      "🚨 Spoofing activated.\n",
      "✅ Destination reached.\n"
     ]
    }
   ],
   "source": [
    "# Main simulation + collection loop\n",
    "try:\n",
    "    print(\"🚒 Running simulation...\")\n",
    "    while True:\n",
    "        world.tick()\n",
    "        control = agent.run_step()\n",
    "        vehicle.apply_control(control)\n",
    "\n",
    "        transform = vehicle.get_transform()\n",
    "        velocity = vehicle.get_velocity()\n",
    "        speed = 3.6 * (velocity.x**2 + velocity.y**2 + velocity.z**2) ** 0.5\n",
    "\n",
    "        if sensor_data['gnss'] and sensor_data['imu'] and sensor_data['rgb_frame'] is not None:\n",
    "            record = {\n",
    "                'frame_id': frame_id,\n",
    "                'image_num': sensor_data['rgb_frame'],\n",
    "                'latitude': sensor_data['gnss']['latitude'],\n",
    "                'longitude': sensor_data['gnss']['longitude'],\n",
    "                'accel_x': sensor_data['imu']['accel_x'],\n",
    "                'accel_y': sensor_data['imu']['accel_y'],\n",
    "                'accel_z': sensor_data['imu']['accel_z'],\n",
    "                'gyro_x': sensor_data['imu']['gyro_x'],\n",
    "                'gyro_y': sensor_data['imu']['gyro_y'],\n",
    "                'gyro_z': sensor_data['imu']['gyro_z'],\n",
    "                'steering_angle': control.steer,\n",
    "                'throttle': control.throttle,\n",
    "                'brake': control.brake,\n",
    "                'speed': speed,\n",
    "                'label': 'spoofed' if spoofing_active else 'normal'\n",
    "            }\n",
    "            data_records.append(record)\n",
    "            frame_id += 1\n",
    "\n",
    "        spectator.set_transform(carla.Transform(\n",
    "            vehicle.get_transform().transform(carla.Location(x=4, z=2)),\n",
    "            vehicle.get_transform().rotation))\n",
    "\n",
    "        if agent.done():\n",
    "            print(\"✅ Destination reached.\")\n",
    "            break\n",
    "except KeyboardInterrupt:\n",
    "    print(\"🛑 Interrupted.\")\n"
   ]
  },
  {
   "cell_type": "code",
   "execution_count": 37,
   "metadata": {},
   "outputs": [
    {
     "name": "stdout",
     "output_type": "stream",
     "text": [
      "💾 Data saved to combined_data.csv\n",
      "✅ Cleanup complete.\n"
     ]
    }
   ],
   "source": [
    "# Save and cleanup\n",
    "df = pd.DataFrame(data_records)\n",
    "df.to_csv('combined_data.csv', index=False)\n",
    "print(\"💾 Data saved to combined_data.csv\")\n",
    "\n",
    "for s in sensor_list:\n",
    "    s.stop()\n",
    "    s.destroy()\n",
    "vehicle.destroy()\n",
    "print(\"✅ Cleanup complete.\")\n"
   ]
  }
 ],
 "metadata": {
  "kernelspec": {
   "display_name": "Python 3",
   "language": "python",
   "name": "python3"
  },
  "language_info": {
   "codemirror_mode": {
    "name": "ipython",
    "version": 3
   },
   "file_extension": ".py",
   "mimetype": "text/x-python",
   "name": "python",
   "nbconvert_exporter": "python",
   "pygments_lexer": "ipython3",
   "version": "3.7.9"
  }
 },
 "nbformat": 4,
 "nbformat_minor": 2
}
