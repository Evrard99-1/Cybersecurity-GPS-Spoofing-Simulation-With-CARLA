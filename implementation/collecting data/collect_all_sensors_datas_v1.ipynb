{
 "cells": [
  {
   "cell_type": "code",
   "execution_count": 2,
   "metadata": {},
   "outputs": [],
   "source": [
    "# All imports\n",
    "import carla\n",
    "import time\n",
    "import sys\n"
   ]
  },
  {
   "cell_type": "code",
   "execution_count": 3,
   "metadata": {},
   "outputs": [],
   "source": [
    "# Connect to CARLA\n",
    "client = carla.Client('localhost', 2000)\n",
    "world = client.get_world()\n",
    "spawn_points = world.get_map().get_spawn_points()\n"
   ]
  },
  {
   "cell_type": "code",
   "execution_count": 21,
   "metadata": {},
   "outputs": [],
   "source": [
    "# Destroy all vehicles and sensors\n",
    "for actor in world.get_actors().filter('*vehicle*'):\n",
    "    actor.destroy()\n",
    "for sensor in world.get_actors().filter('*sensor*'):\n",
    "    sensor.destroy()\n"
   ]
  },
  {
   "cell_type": "code",
   "execution_count": 15,
   "metadata": {},
   "outputs": [
    {
     "name": "stdout",
     "output_type": "stream",
     "text": [
      "Spawn point #0 drawn.\n"
     ]
    }
   ],
   "source": [
    "# Ask user for a spawn index\n",
    "spawn_index = int(input(f\"Enter a spawn point index (0 to {len(spawn_points)-1}): \"))\n",
    "\n",
    "# Validate index\n",
    "if 0 <= spawn_index < len(spawn_points):\n",
    "    sp = spawn_points[spawn_index]\n",
    "    world.debug.draw_string(sp.location, f\"#{spawn_index}\", draw_shadow=False,\n",
    "                             color=carla.Color(r=0, g=255, b=0), life_time=60.0, persistent_lines=True)\n",
    "    world.debug.draw_arrow(sp.location, sp.location + carla.Location(z=2),\n",
    "                            thickness=0.1, arrow_size=0.3, color=carla.Color(r=0, g=255, b=0),\n",
    "                            life_time=60.0, persistent_lines=True)\n",
    "    print(f\"Spawn point #{spawn_index} drawn.\")\n",
    "else:\n",
    "    print(\"Invalid index.\")\n",
    "\n"
   ]
  },
  {
   "cell_type": "code",
   "execution_count": 16,
   "metadata": {},
   "outputs": [],
   "source": [
    "# Get blueprints\n",
    "blueprints = world.get_blueprint_library()\n",
    "truck_bp = blueprints.filter('*firetruck*')[0]\n",
    "mini_bp = blueprints.filter('*cooper_s*')[0]\n",
    "vw_bp = blueprints.filter('*volkswagen*')[0]\n",
    "\n"
   ]
  },
  {
   "cell_type": "code",
   "execution_count": 17,
   "metadata": {},
   "outputs": [],
   "source": [
    "#  Set spectator view\n",
    "spectator = world.get_spectator()\n",
    "spectator_pos = carla.Transform(start_point.location + carla.Location(x=20, y=10, z=4),\n",
    "                                carla.Rotation(yaw=start_point.rotation.yaw - 155))\n",
    "spectator.set_transform(spectator_pos)\n"
   ]
  },
  {
   "cell_type": "code",
   "execution_count": 27,
   "metadata": {},
   "outputs": [
    {
     "name": "stdout",
     "output_type": "stream",
     "text": [
      "Firetruck spawned.\n",
      "Truck initial position: Transform(Location(x=0.000000, y=0.000000, z=0.000000), Rotation(pitch=0.000000, yaw=0.000000, roll=0.000000))\n"
     ]
    }
   ],
   "source": [
    "# Spawn firetruck at first spawn point\n",
    "start_point = spawn_points[0]\n",
    "truck = world.try_spawn_actor(truck_bp, start_point)\n",
    "\n",
    "if truck is not None:\n",
    "    print(\"Firetruck spawned.\")\n",
    "    truck.set_autopilot(True)\n",
    "    print(\"Truck initial position:\", truck.get_transform())\n",
    "else:\n",
    "    print(\"Failed to spawn firetruck.\")\n"
   ]
  },
  {
   "cell_type": "code",
   "execution_count": 31,
   "metadata": {},
   "outputs": [
    {
     "name": "stdout",
     "output_type": "stream",
     "text": [
      "Transform(Location(x=-114.535583, y=74.058922, z=-0.003508), Rotation(pitch=0.005136, yaw=90.055283, roll=0.048968))\n"
     ]
    }
   ],
   "source": [
    "# get actual position from the firetruck\n",
    "truck_pos = truck.get_transform()\n",
    "print(truck_pos)"
   ]
  },
  {
   "cell_type": "code",
   "execution_count": 32,
   "metadata": {},
   "outputs": [
    {
     "name": "stdout",
     "output_type": "stream",
     "text": [
      "Map loaded: Carla/Maps/Town10HD_Opt\n",
      "Number of road segments: 200\n"
     ]
    }
   ],
   "source": [
    "#  Get map and roads\n",
    "town_map = world.get_map()\n",
    "print(\"Map loaded:\", town_map.name)\n",
    "\n",
    "roads = town_map.get_topology()\n",
    "print(\"Number of road segments:\", len(roads))\n"
   ]
  },
  {
   "cell_type": "code",
   "execution_count": 33,
   "metadata": {},
   "outputs": [
    {
     "name": "stdout",
     "output_type": "stream",
     "text": [
      "Sample waypoint: Waypoint(Transform(Location(x=109.929878, y=-9.334196, z=0.000000), Rotation(pitch=0.000000, yaw=-89.609253, roll=0.000000)))\n"
     ]
    }
   ],
   "source": [
    "#  Print one waypoint\n",
    "if roads:\n",
    "    print(\"Sample waypoint:\", roads[0][0])\n"
   ]
  },
  {
   "cell_type": "code",
   "execution_count": 34,
   "metadata": {},
   "outputs": [],
   "source": [
    "#  Load route planner\n",
    "sys.path.append('D:/carla/PythonAPI/carla')\n",
    "from agents.navigation.global_route_planner import GlobalRoutePlanner\n"
   ]
  },
  {
   "cell_type": "code",
   "execution_count": null,
   "metadata": {},
   "outputs": [],
   "source": [
    "# Define start and end positions (as comments only)\n",
    "# pos1 = Transform(Location(x=0.000000, y=0.000000, z=0.000000), Rotation(pitch=0.000007, yaw=0.318098, roll=0.000000))\n",
    "# pos2 = Transform(Location(x=-0.989548, y=28.180809, z=-0.003467), Rotation(pitch=0.000000, yaw=0.159198, roll=0.000000))\n"
   ]
  },
  {
   "cell_type": "code",
   "execution_count": 46,
   "metadata": {},
   "outputs": [],
   "source": [
    "from agents.navigation.global_route_planner import GlobalRoutePlanner\n",
    "\n",
    "sampling_resolution = 2.0\n",
    "grp = GlobalRoutePlanner(town_map, sampling_resolution)\n",
    "\n",
    "# Define start and end\n",
    "point_a = carla.Location(x=50.477512, y=141.135620, z=0.001844)\n",
    "point_b = carla.Location(x=-64.644844, y=24.471010, z=0.600000)\n",
    "\n",
    "# Trace and draw route\n",
    "route = grp.trace_route(point_a, point_b)\n",
    "\n",
    "for waypoint, _ in route:\n",
    "    world.debug.draw_string(waypoint.transform.location, '^', draw_shadow=False,\n",
    "                            color=carla.Color(r=0, g=0, b=255), life_time=120.0,\n",
    "                            persistent_lines=True)\n",
    "    world.debug.draw_arrow(waypoint.transform.location,\n",
    "                           waypoint.transform.location + carla.Location(z=0.5),\n",
    "                           thickness=0.1, arrow_size=0.3,\n",
    "                           color=carla.Color(r=0, g=0, b=255), life_time=120.0,\n",
    "                           persistent_lines=True)\n"
   ]
  },
  {
   "cell_type": "code",
   "execution_count": null,
   "metadata": {},
   "outputs": [],
   "source": [
    "#  Show all available blueprints\n",
    "print(\"All vehicle blueprints:\")\n",
    "for bp in blueprints.filter('vehicle.*'):\n",
    "    print(bp.id)\n"
   ]
  }
 ],
 "metadata": {
  "kernelspec": {
   "display_name": "Python 3",
   "language": "python",
   "name": "python3"
  },
  "language_info": {
   "codemirror_mode": {
    "name": "ipython",
    "version": 3
   },
   "file_extension": ".py",
   "mimetype": "text/x-python",
   "name": "python",
   "nbconvert_exporter": "python",
   "pygments_lexer": "ipython3",
   "version": "3.7.9"
  }
 },
 "nbformat": 4,
 "nbformat_minor": 2
}
