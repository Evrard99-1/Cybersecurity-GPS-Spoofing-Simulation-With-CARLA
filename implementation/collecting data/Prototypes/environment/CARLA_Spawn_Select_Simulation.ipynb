{
 "cells": [
  {
   "cell_type": "code",
   "execution_count": 1,
   "id": "5900da45",
   "metadata": {},
   "outputs": [],
   "source": [
    "\n",
    "import glob\n",
    "import os\n",
    "import sys\n",
    "import time\n",
    "import carla\n",
    "\n",
    "# Add CARLA Python egg path\n",
    "try:\n",
    "    sys.path.append(glob.glob('../carla/dist/carla-*%d.%d-%s.egg' % (\n",
    "        sys.version_info.major,\n",
    "        sys.version_info.minor,\n",
    "        'win-amd64' if os.name == 'nt' else 'linux-x86_64'))[0])\n",
    "except IndexError:\n",
    "    pass\n"
   ]
  },
  {
   "cell_type": "code",
   "execution_count": 2,
   "id": "881f8ebd",
   "metadata": {},
   "outputs": [],
   "source": [
    "\n",
    "# Connect to CARLA\n",
    "client = carla.Client('localhost', 2000)\n",
    "client.set_timeout(10.0)\n",
    "world = client.get_world()\n",
    "\n",
    "# Destroy all actors before starting\n",
    "for actor in world.get_actors().filter('*vehicle*'):\n",
    "    actor.destroy()\n",
    "for sensor in world.get_actors().filter('*sensor*'):\n",
    "    sensor.destroy()\n"
   ]
  },
  {
   "cell_type": "code",
   "execution_count": 3,
   "id": "a0e30c86",
   "metadata": {},
   "outputs": [],
   "source": [
    "\n",
    "# Load spawn points and blueprints\n",
    "spawn_points = world.get_map().get_spawn_points()\n",
    "blueprints = world.get_blueprint_library()\n",
    "\n",
    "truck_bp = blueprints.filter('*firetruck*')[0]\n",
    "mini_bp = blueprints.filter('*cooper_s*')[0]\n",
    "vw_bp = blueprints.filter('*volkswagen*')[0]\n"
   ]
  },
  {
   "cell_type": "code",
   "execution_count": 5,
   "id": "f1d727ce",
   "metadata": {},
   "outputs": [
    {
     "name": "stdout",
     "output_type": "stream",
     "text": [
      "📍 Drawing enlarged label numbers at each spawn point...\n",
      "✅ 155 bold label numbers displayed in simulator.\n",
      "\n",
      "--- Available Navigation Points (Index: Location) ---\n",
      "[0] x=106.42, y=-12.71, z=0.60\n",
      "[1] x=109.95, y=-17.19, z=0.60\n",
      "[2] x=99.08, y=42.14, z=0.60\n",
      "[3] x=106.02, y=50.87, z=0.60\n",
      "[4] x=109.50, y=53.29, z=0.60\n",
      "[5] x=-67.05, y=-68.69, z=0.60\n",
      "[6] x=-103.22, y=-2.21, z=0.60\n",
      "[7] x=109.91, y=-6.93, z=0.60\n",
      "[8] x=102.93, y=-9.38, z=0.60\n",
      "[9] x=-2.65, y=-68.05, z=0.60\n",
      "[10] x=-24.34, y=-57.79, z=0.60\n",
      "[11] x=99.38, y=-6.31, z=0.60\n",
      "[12] x=98.80, y=82.89, z=0.60\n",
      "[13] x=40.39, y=41.95, z=0.60\n",
      "[14] x=19.35, y=137.46, z=0.60\n",
      "[15] x=10.91, y=-57.40, z=0.60\n",
      "[16] x=7.41, y=-60.90, z=0.60\n",
      "[17] x=106.51, y=-21.55, z=0.90\n",
      "[18] x=109.96, y=-27.33, z=0.60\n",
      "[19] x=30.02, y=133.95, z=0.60\n",
      "[20] x=-6.55, y=137.23, z=0.60\n",
      "[21] x=-41.85, y=-30.44, z=0.60\n",
      "[22] x=-52.07, y=82.65, z=0.60\n",
      "[23] x=-28.58, y=140.54, z=0.60\n",
      "[24] x=-18.39, y=130.21, z=0.60\n",
      "[25] x=-9.88, y=-57.55, z=0.60\n",
      "[26] x=11.18, y=-64.40, z=0.60\n",
      "[27] x=-15.41, y=133.73, z=0.60\n",
      "[28] x=14.27, y=-67.90, z=0.60\n",
      "[29] x=-110.76, y=46.66, z=0.60\n",
      "[30] x=-78.03, y=12.97, z=0.60\n",
      "[31] x=-71.27, y=132.31, z=0.60\n",
      "[32] x=-41.67, y=48.91, z=0.60\n",
      "[33] x=-87.28, y=24.44, z=0.60\n",
      "[34] x=-5.78, y=-64.55, z=0.60\n",
      "[35] x=-27.80, y=-61.28, z=0.60\n",
      "[36] x=-27.16, y=137.04, z=0.60\n",
      "[37] x=52.79, y=69.82, z=0.60\n",
      "[38] x=-89.89, y=27.93, z=0.60\n",
      "[39] x=-66.79, y=13.00, z=0.60\n",
      "[40] x=21.63, y=140.97, z=0.60\n",
      "[41] x=-52.33, y=-14.04, z=0.60\n",
      "[42] x=-64.10, y=16.51, z=0.60\n",
      "[43] x=-76.67, y=24.47, z=0.60\n",
      "[44] x=99.43, y=-19.66, z=0.60\n",
      "[45] x=-25.52, y=24.61, z=0.60\n",
      "[46] x=-79.28, y=27.96, z=0.60\n",
      "[47] x=-45.34, y=-25.57, z=0.60\n",
      "[48] x=-75.34, y=16.47, z=0.60\n",
      "[49] x=44.03, y=52.55, z=0.60\n",
      "[50] x=-52.31, y=-1.59, z=0.60\n",
      "[51] x=-106.69, y=-4.85, z=0.60\n",
      "[52] x=-28.73, y=28.10, z=0.60\n",
      "[53] x=-48.82, y=-4.80, z=0.60\n",
      "[54] x=-45.31, y=-1.69, z=0.60\n",
      "[55] x=-41.83, y=-6.60, z=0.60\n",
      "[56] x=83.08, y=13.41, z=0.60\n",
      "[57] x=-68.74, y=129.30, z=0.60\n",
      "[58] x=59.81, y=24.85, z=0.60\n",
      "[59] x=-52.19, y=42.57, z=0.60\n",
      "[60] x=-48.84, y=-17.21, z=0.60\n",
      "[61] x=-45.32, y=-11.65, z=0.60\n",
      "[62] x=102.57, y=43.97, z=0.60\n",
      "[63] x=-9.18, y=140.71, z=0.60\n",
      "[64] x=29.24, y=16.77, z=0.60\n",
      "[65] x=-41.83, y=-16.56, z=0.60\n",
      "[66] x=-48.67, y=46.96, z=0.60\n",
      "[67] x=80.27, y=16.91, z=0.60\n",
      "[68] x=27.14, y=66.28, z=0.60\n",
      "[69] x=57.40, y=28.34, z=0.60\n",
      "[70] x=-64.58, y=-65.17, z=0.60\n",
      "[71] x=-48.57, y=85.65, z=0.60\n",
      "[72] x=-13.34, y=-61.05, z=0.60\n",
      "[73] x=-27.02, y=69.71, z=0.60\n",
      "[74] x=-114.23, y=43.82, z=0.60\n",
      "[75] x=-52.13, y=-40.18, z=0.60\n",
      "[76] x=102.98, y=-22.71, z=0.60\n",
      "[77] x=32.34, y=130.46, z=0.60\n",
      "[78] x=-41.49, y=111.95, z=0.60\n",
      "[79] x=-44.98, y=114.96, z=0.60\n",
      "[80] x=106.38, y=-1.65, z=0.60\n",
      "[81] x=102.32, y=80.41, z=0.60\n",
      "[82] x=32.05, y=13.27, z=0.60\n",
      "[83] x=-48.64, y=-43.35, z=0.60\n",
      "[84] x=85.98, y=66.36, z=0.60\n",
      "[85] x=-45.15, y=55.72, z=0.60\n",
      "[86] x=-52.33, y=-28.86, z=0.60\n",
      "[87] x=-48.84, y=-32.03, z=0.60\n",
      "[88] x=-41.75, y=-41.37, z=0.60\n",
      "[89] x=-45.24, y=-36.50, z=0.60\n",
      "[90] x=26.38, y=-57.40, z=0.60\n",
      "[91] x=22.88, y=-60.90, z=0.60\n",
      "[92] x=-15.45, y=-68.01, z=0.60\n",
      "[93] x=-18.78, y=-64.71, z=0.90\n",
      "[94] x=29.89, y=-64.40, z=0.60\n",
      "[95] x=32.99, y=-67.90, z=0.60\n",
      "[96] x=47.56, y=-57.23, z=0.60\n",
      "[97] x=44.06, y=-60.72, z=0.60\n",
      "[98] x=54.47, y=-64.35, z=0.60\n",
      "[99] x=57.57, y=-67.85, z=0.60\n",
      "[100] x=-64.64, y=24.47, z=0.60\n",
      "[101] x=-67.25, y=27.96, z=0.60\n",
      "[102] x=-87.62, y=12.97, z=0.60\n",
      "[103] x=-84.93, y=16.47, z=0.60\n",
      "[104] x=-103.18, y=-14.43, z=0.60\n",
      "[105] x=-106.65, y=-17.07, z=0.60\n",
      "[106] x=-110.96, y=59.69, z=0.60\n",
      "[107] x=-114.43, y=56.85, z=0.60\n",
      "[108] x=-111.12, y=72.90, z=0.60\n",
      "[109] x=-114.59, y=70.06, z=0.60\n",
      "[110] x=-110.20, y=-9.84, z=0.60\n",
      "[111] x=-113.65, y=-14.28, z=0.60\n",
      "[112] x=-109.93, y=-23.43, z=0.60\n",
      "[113] x=-113.40, y=-25.77, z=0.60\n",
      "[114] x=-56.87, y=140.54, z=0.60\n",
      "[115] x=-54.34, y=137.05, z=0.60\n",
      "[116] x=3.05, y=130.21, z=0.60\n",
      "[117] x=5.63, y=133.73, z=0.60\n",
      "[118] x=45.77, y=137.46, z=0.60\n",
      "[119] x=48.55, y=140.98, z=0.60\n",
      "[120] x=53.12, y=133.95, z=0.60\n",
      "[121] x=55.54, y=130.46, z=0.60\n",
      "[122] x=-52.07, y=100.19, z=0.60\n",
      "[123] x=-48.57, y=102.48, z=0.60\n",
      "[124] x=-52.07, y=63.54, z=0.60\n",
      "[125] x=-48.58, y=60.63, z=0.60\n",
      "[126] x=-41.67, y=89.75, z=0.60\n",
      "[127] x=-45.16, y=92.46, z=0.60\n",
      "[128] x=-15.15, y=69.71, z=0.60\n",
      "[129] x=-1.01, y=69.71, z=0.60\n",
      "[130] x=14.13, y=69.71, z=0.60\n",
      "[131] x=6.01, y=66.28, z=0.60\n",
      "[132] x=-7.97, y=66.28, z=0.60\n",
      "[133] x=67.66, y=69.82, z=0.60\n",
      "[134] x=79.06, y=69.82, z=0.60\n",
      "[135] x=73.63, y=66.36, z=0.60\n",
      "[136] x=61.60, y=66.36, z=0.60\n",
      "[137] x=106.03, y=67.42, z=0.60\n",
      "[138] x=109.50, y=71.24, z=0.60\n",
      "[139] x=106.00, y=92.81, z=0.60\n",
      "[140] x=109.52, y=89.84, z=0.60\n",
      "[141] x=65.24, y=13.41, z=0.60\n",
      "[142] x=62.03, y=16.91, z=0.60\n",
      "[143] x=45.38, y=13.41, z=0.60\n",
      "[144] x=43.37, y=16.91, z=0.60\n",
      "[145] x=15.14, y=16.68, z=0.70\n",
      "[146] x=20.45, y=13.20, z=0.70\n",
      "[147] x=-20.12, y=16.75, z=0.60\n",
      "[148] x=-17.11, y=13.26, z=0.60\n",
      "[149] x=-0.76, y=24.61, z=0.60\n",
      "[150] x=-3.97, y=28.10, z=0.60\n",
      "[151] x=19.60, y=24.61, z=0.60\n",
      "[152] x=17.09, y=28.10, z=0.60\n",
      "[153] x=77.01, y=24.85, z=0.60\n",
      "[154] x=74.80, y=28.34, z=0.60\n"
     ]
    },
    {
     "name": "stdout",
     "output_type": "stream",
     "text": [
      "\n",
      "=== Navigation Plan Summary ===\n",
      "Start Location:      Location(x=-18.782679, y=-64.708092, z=0.900005)\n",
      "Spoofed GPS Location:Location(x=-52.330811, y=-14.039614, z=0.600000)\n",
      "Destination:         Location(x=-28.726021, y=28.104218, z=0.600000)\n"
     ]
    }
   ],
   "source": [
    "\n",
    "# Visualize all spawn points with BIG LABEL NUMBERS\n",
    "print(\"📍 Drawing enlarged label numbers at each spawn point...\")\n",
    "\n",
    "for idx, sp in enumerate(spawn_points):\n",
    "    loc = sp.location + carla.Location(z=2.5)\n",
    "\n",
    "    # Simulate bold/bigger text by drawing multiple overlapping strings\n",
    "    offsets = [(-0.15, 0), (0.15, 0), (0, -0.15), (0, 0.15), (0, 0)]\n",
    "    for dx, dy in offsets:\n",
    "        offset_loc = loc + carla.Location(x=dx, y=dy)\n",
    "        world.debug.draw_string(offset_loc, f\"#{idx}\", draw_shadow=True,\n",
    "                                color=carla.Color(r=255, g=255, b=0), life_time=60.0, persistent_lines=True)\n",
    "\n",
    "print(f\"✅ {len(spawn_points)} bold label numbers displayed in simulator.\")\n",
    "\n",
    "# === Show All Navigable Spawn Points ===\n",
    "print(\"\\n--- Available Navigation Points (Index: Location) ---\")\n",
    "for idx, sp in enumerate(spawn_points):\n",
    "    loc = sp.location\n",
    "    print(f\"[{idx}] x={loc.x:.2f}, y={loc.y:.2f}, z={loc.z:.2f}\")\n",
    "\n",
    "# === User Selection ===\n",
    "start_index = int(input(\"\\nEnter index for START location: \"))\n",
    "spoof_index = int(input(\"Enter index for SPOOFED GPS location: \"))\n",
    "end_index = int(input(\"Enter index for FINAL DESTINATION: \"))\n",
    "\n",
    "start_transform = spawn_points[start_index]\n",
    "spoof_location = spawn_points[spoof_index].location\n",
    "end_transform = spawn_points[end_index]\n",
    "\n",
    "print(\"\\n=== Navigation Plan Summary ===\")\n",
    "print(f\"Start Location:      {start_transform.location}\")\n",
    "print(f\"Spoofed GPS Location:{spoof_location}\")\n",
    "print(f\"Destination:         {end_transform.location}\")\n"
   ]
  },
  {
   "cell_type": "code",
   "execution_count": 6,
   "id": "e970b98b",
   "metadata": {},
   "outputs": [],
   "source": [
    "\n",
    "# Set spectator view\n",
    "spectator = world.get_spectator()\n",
    "spectator_pos = carla.Transform(start_transform.location + carla.Location(x=20, y=10, z=4),\n",
    "                                carla.Rotation(yaw=start_transform.rotation.yaw - 155))\n",
    "spectator.set_transform(spectator_pos)\n"
   ]
  },
  {
   "cell_type": "code",
   "execution_count": 7,
   "id": "0408e1fb",
   "metadata": {},
   "outputs": [
    {
     "name": "stdout",
     "output_type": "stream",
     "text": [
      "🚒 Firetruck spawned and set to autopilot.\n"
     ]
    }
   ],
   "source": [
    "\n",
    "# Spawn truck at start point\n",
    "truck = world.try_spawn_actor(truck_bp, start_transform)\n",
    "if truck:\n",
    "    truck.set_autopilot(True)\n",
    "    print(\"🚒 Firetruck spawned and set to autopilot.\")\n"
   ]
  },
  {
   "cell_type": "code",
   "execution_count": 8,
   "id": "82b5256c",
   "metadata": {},
   "outputs": [
    {
     "name": "stdout",
     "output_type": "stream",
     "text": [
      "🚗 Mini spawned above the ground.\n"
     ]
    }
   ],
   "source": [
    "\n",
    "# Spawn Mini at another point and move it\n",
    "mini = world.try_spawn_actor(mini_bp, spawn_points[10])\n",
    "if mini:\n",
    "    mini_pos = carla.Transform(start_transform.location + carla.Location(x=1, z=10),\n",
    "                               carla.Rotation(yaw=start_transform.rotation.yaw))\n",
    "    mini.set_transform(mini_pos)\n",
    "    print(\"🚗 Mini spawned above the ground.\")\n"
   ]
  },
  {
   "cell_type": "code",
   "execution_count": 9,
   "id": "09e00a07",
   "metadata": {},
   "outputs": [
    {
     "name": "stdout",
     "output_type": "stream",
     "text": [
      "🚙 VW spawned above the ground.\n"
     ]
    }
   ],
   "source": [
    "\n",
    "# Spawn VW at a new location and drop it\n",
    "vw = world.try_spawn_actor(vw_bp, spawn_points[20])\n",
    "if vw:\n",
    "    vw_pos = carla.Transform(start_transform.location + carla.Location(x=1, z=6),\n",
    "                             carla.Rotation(yaw=start_transform.rotation.yaw))\n",
    "    vw.set_transform(vw_pos)\n",
    "    print(\"🚙 VW spawned above the ground.\")\n"
   ]
  },
  {
   "cell_type": "code",
   "execution_count": null,
   "id": "10bb04c4",
   "metadata": {},
   "outputs": [
    {
     "name": "stdout",
     "output_type": "stream",
     "text": [
      "\n",
      "[Truck] Original GPS: Latitude=N/A, Longitude=N/A\n",
      "[Truck] Spoofed GPS: Latitude=-52.330810546875, Longitude=-14.039613723754883\n"
     ]
    },
    {
     "ename": "",
     "evalue": "",
     "output_type": "error",
     "traceback": [
      "\u001b[1;31mThe Kernel crashed while executing code in the current cell or a previous cell. \n",
      "\u001b[1;31mPlease review the code in the cell(s) to identify a possible cause of the failure. \n",
      "\u001b[1;31mClick <a href='https://aka.ms/vscodeJupyterKernelCrash'>here</a> for more info. \n",
      "\u001b[1;31mView Jupyter <a href='command:jupyter.viewOutput'>log</a> for further details."
     ]
    }
   ],
   "source": [
    "\n",
    "# Print spoofed GPS info (simulated)\n",
    "if truck:\n",
    "    print(f\"\\n[Truck] Original GPS: Latitude=N/A, Longitude=N/A\")\n",
    "    print(f\"[Truck] Spoofed GPS: Latitude={spoof_location.x}, Longitude={spoof_location.y}\")\n"
   ]
  }
 ],
 "metadata": {
  "kernelspec": {
   "display_name": "Python 3",
   "language": "python",
   "name": "python3"
  },
  "language_info": {
   "codemirror_mode": {
    "name": "ipython",
    "version": 3
   },
   "file_extension": ".py",
   "mimetype": "text/x-python",
   "name": "python",
   "nbconvert_exporter": "python",
   "pygments_lexer": "ipython3",
   "version": "3.7.9"
  }
 },
 "nbformat": 4,
 "nbformat_minor": 5
}
