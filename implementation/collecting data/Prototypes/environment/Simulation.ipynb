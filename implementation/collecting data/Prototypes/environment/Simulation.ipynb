{
 "cells": [
  {
   "cell_type": "code",
   "execution_count": null,
   "metadata": {},
   "outputs": [],
   "source": [
    "# Cell 1: Imports and Setup\n",
    "import glob\n",
    "import os\n",
    "import sys\n",
    "import time\n",
    "import argparse\n",
    "import random\n",
    "import carla\n",
    "\n",
    "try:\n",
    "    sys.path.append(glob.glob('../carla/dist/carla-*%d.%d-%s.egg' % (\n",
    "        sys.version_info.major,\n",
    "        sys.version_info.minor,\n",
    "        'win-amd64' if os.name == 'nt' else 'linux-x86_64'))[0])\n",
    "except IndexError:\n",
    "    pass\n"
   ]
  },
  {
   "cell_type": "code",
   "execution_count": null,
   "metadata": {},
   "outputs": [],
   "source": [
    "# Cell 2: Argument parsing (set arguments manually if desired)\n",
    "class Args:\n",
    "    host = '127.0.0.1'\n",
    "    port = 2000\n",
    "    tm_port = 6000\n",
    "    sync = True  # Change to False if synchronous mode is not desired\n",
    "\n",
    "args = Args()\n"
   ]
  },
  {
   "cell_type": "code",
   "execution_count": null,
   "metadata": {},
   "outputs": [],
   "source": [
    "# Cell 3: Connect to CARLA and set spectator\n",
    "client = carla.Client(args.host, args.port)\n",
    "client.set_timeout(10.0)\n",
    "world = client.get_world()\n",
    "\n",
    "spectator = world.get_spectator()\n",
    "spectator.set_transform(\n",
    "    carla.Transform(carla.Location(x=0, y=0, z=50), carla.Rotation(pitch=-90))\n",
    ")\n"
   ]
  },
  {
   "cell_type": "code",
   "execution_count": null,
   "metadata": {},
   "outputs": [],
   "source": [
    "# Cell 4: Traffic Manager setup\n",
    "traffic_manager = client.get_trafficmanager(args.tm_port)\n",
    "traffic_manager.set_global_distance_to_leading_vehicle(2.5)\n",
    "print(f\"Traffic Manager bound to port {args.tm_port}\")\n",
    "time.sleep(2)\n"
   ]
  },
  {
   "cell_type": "code",
   "execution_count": null,
   "metadata": {},
   "outputs": [],
   "source": [
    "# Cell 5: Enable synchronous mode (optional)\n",
    "settings = world.get_settings()\n",
    "if args.sync:\n",
    "    settings.synchronous_mode = True\n",
    "    settings.fixed_delta_seconds = 0.05\n",
    "    world.apply_settings(settings)\n"
   ]
  },
  {
   "cell_type": "code",
   "execution_count": null,
   "metadata": {},
   "outputs": [],
   "source": [
    "# Cell 6: Retrieve vehicle blueprint and GPS spoofing coordinates\n",
    "blueprint_library = world.get_blueprint_library()\n",
    "vehicle_bp = blueprint_library.filter('vehicle.*')[0]\n",
    "\n",
    "spoofed_latitude = 52.0\n",
    "spoofed_longitude = 4.0\n"
   ]
  },
  {
   "cell_type": "code",
   "execution_count": null,
   "metadata": {},
   "outputs": [],
   "source": [
    "# Cell 7: Spawn vehicles and attach GPS sensors\n",
    "num_vehicles = 2\n",
    "vehicles = []\n",
    "gps_sensors = []\n",
    "spawn_location = carla.Location(x=0, y=0, z=1)\n",
    "\n",
    "def gps_callback(event, vehicle_id):\n",
    "    original_lat = event.latitude\n",
    "    original_long = event.longitude\n",
    "    print(f\"[Vehicle {vehicle_id}] Original GPS: Latitude={original_lat}, Longitude={original_long}\")\n",
    "    print(f\"[Vehicle {vehicle_id}] Spoofed GPS: Latitude={spoofed_latitude}, Longitude={spoofed_longitude}\")\n",
    "\n",
    "for i in range(num_vehicles):\n",
    "    spawn_point = carla.Transform(\n",
    "        location=carla.Location(\n",
    "            x=spawn_location.x + i * 10,\n",
    "            y=spawn_location.y,\n",
    "            z=spawn_location.z\n",
    "        ),\n",
    "        rotation=carla.Rotation(yaw=0)\n",
    "    )\n",
    "\n",
    "    vehicle = world.try_spawn_actor(vehicle_bp, spawn_point)\n",
    "    if vehicle:\n",
    "        vehicle.set_autopilot(True, traffic_manager.get_port())\n",
    "        vehicles.append(vehicle)\n",
    "        print(f\"Vehicle {i} successfully spawned at {spawn_point.location}\")\n",
    "\n",
    "        gps_bp = blueprint_library.find('sensor.other.gnss')\n",
    "        gps_transform = carla.Transform(carla.Location(x=1.0, z=2.8))\n",
    "        gps_sensor = world.spawn_actor(gps_bp, gps_transform, attach_to=vehicle)\n",
    "\n",
    "        gps_sensor.listen(lambda event, id=vehicle.id: gps_callback(event, id))\n",
    "        gps_sensors.append(gps_sensor)\n",
    "    else:\n",
    "        print(\"Spawn failed due to collision or other issues.\")\n"
   ]
  },
  {
   "cell_type": "code",
   "execution_count": null,
   "metadata": {},
   "outputs": [],
   "source": [
    "# Cell 8: Run simulation loop\n",
    "try:\n",
    "    while True:\n",
    "        if args.sync:\n",
    "            world.tick()\n",
    "        else:\n",
    "            world.wait_for_tick()\n",
    "except KeyboardInterrupt:\n",
    "    print(\"Simulation interrupted by user\")\n",
    "finally:\n",
    "    print(\"Destroying actors...\")\n",
    "    for gps_sensor in gps_sensors:\n",
    "        gps_sensor.stop()\n",
    "        gps_sensor.destroy()\n",
    "    for vehicle in vehicles:\n",
    "        vehicle.destroy()\n",
    "    if args.sync:\n",
    "        settings.synchronous_mode = False\n",
    "        world.apply_settings(settings)\n",
    "    print(\"Simulation ended\")\n"
   ]
  }
 ],
 "metadata": {
  "language_info": {
   "codemirror_mode": {
    "name": "ipython",
    "version": 3
   },
   "file_extension": ".py",
   "mimetype": "text/x-python",
   "name": "python",
   "nbconvert_exporter": "python",
   "pygments_lexer": "ipython3",
   "version": 3
  }
 },
 "nbformat": 4,
 "nbformat_minor": 2
}
